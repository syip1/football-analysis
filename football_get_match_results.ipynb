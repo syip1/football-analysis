{
 "cells": [
  {
   "cell_type": "markdown",
   "id": "b0aea2ed",
   "metadata": {},
   "source": [
    "This code scrapes the Premier League website to get the lineups and scores of each Premier League match in 2020/21 season."
   ]
  },
  {
   "cell_type": "code",
   "execution_count": 1,
   "id": "53344213",
   "metadata": {},
   "outputs": [],
   "source": [
    "import requests\n",
    "from bs4 import BeautifulSoup\n",
    "import pandas as pd\n",
    "import numpy as np"
   ]
  },
  {
   "cell_type": "code",
   "execution_count": 2,
   "id": "df5ac389",
   "metadata": {},
   "outputs": [],
   "source": [
    "start = 58896\n",
    "end = 59275"
   ]
  },
  {
   "cell_type": "markdown",
   "id": "72d8bd3e",
   "metadata": {},
   "source": [
    "Since we scrape the results one at a time, I thought the best way to store them were to store each attribute in a separate array, then combine the arrays into a dataframe at the end."
   ]
  },
  {
   "cell_type": "code",
   "execution_count": 3,
   "id": "eb1d9b25",
   "metadata": {},
   "outputs": [],
   "source": [
    "match_id = []\n",
    "home_team = []\n",
    "away_team = []\n",
    "home_score = []\n",
    "away_score = []\n",
    "home_formation = []\n",
    "away_formation = []\n",
    "home_starters = []\n",
    "home_subs = []\n",
    "away_starters = []\n",
    "away_subs = []"
   ]
  },
  {
   "cell_type": "markdown",
   "id": "c34769eb",
   "metadata": {},
   "source": [
    "Since it takes more work to get the starting and substitute lineups, we write a separate function to do that. In particular, we size the arrays so that the subs have the same size for each match (for some matches it is 7, for others it is 9)."
   ]
  },
  {
   "cell_type": "code",
   "execution_count": 4,
   "id": "ceffcd03",
   "metadata": {},
   "outputs": [],
   "source": [
    "def get_lineup(soup, home, start):\n",
    "    team = []\n",
    "    if home:\n",
    "        class_name = 'startingLineUpContainer squadList home'\n",
    "    else:\n",
    "        class_name = 'startingLineUpContainer squadList'\n",
    "    if start:\n",
    "        ind = 0\n",
    "        size = 11\n",
    "    else:\n",
    "        ind = 1\n",
    "        size = 9\n",
    "    team_arr = soup.find_all('ul', class_ = class_name)[ind]\n",
    "    players = team_arr.find_all('div', class_ = 'name')\n",
    "    for player in players:\n",
    "        player_name = player.text\n",
    "        player_name = player_name.replace('\\n', '')\n",
    "        player_name = player_name.split(' ')\n",
    "        clean_name = []\n",
    "        for i in player_name:\n",
    "            if (i != '' and i[0].isalpha()):\n",
    "                clean_name.append(i)\n",
    "        team.append(' '.join(clean_name))\n",
    "    while (len(team) < size):\n",
    "        team.append(\"Buffer\")\n",
    "    assert(len(team) == size)\n",
    "    return team"
   ]
  },
  {
   "cell_type": "code",
   "execution_count": 5,
   "id": "f6c61088",
   "metadata": {},
   "outputs": [
    {
     "name": "stdout",
     "output_type": "stream",
     "text": [
      "58900\n",
      "58910\n",
      "58920\n",
      "58930\n",
      "58940\n",
      "58950\n",
      "58960\n",
      "58970\n",
      "58980\n",
      "58990\n",
      "59000\n",
      "59010\n",
      "59020\n",
      "59030\n",
      "59040\n",
      "59050\n",
      "59060\n",
      "59070\n",
      "59080\n",
      "59090\n",
      "59100\n",
      "59110\n",
      "59120\n",
      "59130\n",
      "59140\n",
      "59150\n",
      "59160\n",
      "59170\n",
      "59180\n",
      "59190\n",
      "59200\n",
      "59210\n",
      "59220\n",
      "59230\n",
      "59240\n",
      "59250\n",
      "59260\n",
      "59270\n"
     ]
    }
   ],
   "source": [
    "for i in range(start, end + 1):\n",
    "    if i % 10 == 0: print(i)\n",
    "    match_id.append(i)\n",
    "    url = 'https://www.premierleague.com/match/'+str(i)\n",
    "    page = requests.get(url)\n",
    "    soup = BeautifulSoup(page.content, 'html.parser')\n",
    "    names = soup.find_all('a', class_ = 'teamName')\n",
    "    home_team.append(names[0].find('span', class_ = 'long').text)\n",
    "    away_team.append(names[1].find('span', class_ = 'long').text)\n",
    "    \n",
    "\n",
    "    score = soup.find_all('div', class_ = 'scoreboxContainer')\n",
    "    full_time_score = score[0].find_all('div', class_ = 'score fullTime')\n",
    "    scores = full_time_score[0].text.split('-')\n",
    "    home_score.append(int(scores[0]))\n",
    "    away_score.append(int(scores[1]))\n",
    "\n",
    "    formations = soup.find_all('strong', class_ = 'matchTeamFormation')\n",
    "    home_formation.append(formations[0].text)\n",
    "    away_formation.append(formations[1].text)\n",
    "    \n",
    "    home_starters.append(get_lineup(soup, True, True))\n",
    "    home_subs.append(get_lineup(soup, True, False))\n",
    "    away_starters.append(get_lineup(soup, False, True))\n",
    "    away_subs.append(get_lineup(soup, False, False))"
   ]
  },
  {
   "cell_type": "code",
   "execution_count": 12,
   "id": "ae938e48",
   "metadata": {},
   "outputs": [],
   "source": [
    "home_starters = np.array(home_starters)\n",
    "home_subs = np.array(home_subs)\n",
    "away_starters = np.array(away_starters)\n",
    "away_subs = np.array(away_subs)\n",
    "lineup = np.concatenate((home_starters, home_subs, away_starters, away_subs), axis = 1)"
   ]
  },
  {
   "cell_type": "markdown",
   "id": "d4989e68",
   "metadata": {},
   "source": [
    "Finally we create a dataframe which stores all the columns together."
   ]
  },
  {
   "cell_type": "code",
   "execution_count": 13,
   "id": "13d7bc64",
   "metadata": {},
   "outputs": [
    {
     "name": "stdout",
     "output_type": "stream",
     "text": [
      "                0             1                       2                3  \\\n",
      "0       Nick Pope       Ben Mee          Matthew Lowton  James Tarkowski   \n",
      "1  Vicente Guaita    Scott Dann        Cheikhou Kouyaté        Joel Ward   \n",
      "2     Marek Rodák     Joe Bryan              Denis Odoi   Michael Hector   \n",
      "3         Alisson  Joseph Gomez  Trent Alexander-Arnold  Virgil van Dijk   \n",
      "4         Ederson  João Cancelo             John Stones       Rúben Dias   \n",
      "\n",
      "                  4                 5                   6  \\\n",
      "0      Erik Pieters      Robbie Brady  Jóhann Gudmundsson   \n",
      "1   Tyrick Mitchell   Andros Townsend      James McCarthy   \n",
      "2          Tim Ream       Josh Onomah      Ivan Cavaleiro   \n",
      "3  Andrew Robertson  Jordan Henderson          Naby Keïta   \n",
      "4       Kyle Walker   Kevin De Bruyne               Rodri   \n",
      "\n",
      "                     7                8              9  ...  \\\n",
      "0       Josh Brownhill  Ashley Westwood  Ashley Barnes  ...   \n",
      "1       James McArthur  Jeffrey Schlupp  Wilfried Zaha  ...   \n",
      "2      Neeskens Kebano    Harrison Reed    Tom Cairney  ...   \n",
      "3  Georginio Wijnaldum       Sadio Mané  Mohamed Salah  ...   \n",
      "4       Ilkay Gündogan   Bernardo Silva     Phil Foden  ...   \n",
      "\n",
      "                  37               38               39 match_id  \\\n",
      "0       Daniel James  Scott McTominay  Mason Greenwood    58896   \n",
      "1    Michael Obafemi           Buffer           Buffer    58897   \n",
      "2      Eddie Nketiah           Buffer           Buffer    58898   \n",
      "3  Ian Poveda-Ocampo           Buffer           Buffer    58899   \n",
      "4       Jacob Ramsey   Anwar El Ghazi     Keinan Davis    58900   \n",
      "\n",
      "         home_team          away_team home_score away_score home_formation  \\\n",
      "0          Burnley  Manchester United          0          1          4-4-2   \n",
      "1   Crystal Palace        Southampton          1          0          4-4-2   \n",
      "2           Fulham            Arsenal          0          3        4-2-3-1   \n",
      "3        Liverpool       Leeds United          4          3          4-3-3   \n",
      "4  Manchester City        Aston Villa          2          0          4-3-3   \n",
      "\n",
      "  away_formation  \n",
      "0        4-2-3-1  \n",
      "1          4-4-2  \n",
      "2          3-4-3  \n",
      "3        4-1-4-1  \n",
      "4        4-2-3-1  \n",
      "\n",
      "[5 rows x 47 columns]\n"
     ]
    }
   ],
   "source": [
    "matches_df = pd.DataFrame(lineup)\n",
    "matches_df['match_id'] = match_id\n",
    "matches_df['home_team'] = home_team\n",
    "matches_df['away_team'] = away_team\n",
    "matches_df['home_score'] = home_score\n",
    "matches_df['away_score'] = away_score\n",
    "matches_df['home_formation'] = home_formation\n",
    "matches_df['away_formation'] = away_formation\n",
    "print(matches_df.head())"
   ]
  },
  {
   "cell_type": "markdown",
   "id": "33993598",
   "metadata": {},
   "source": [
    "Again, we save the dataframe to a csv file so that we don't have to do the scraping again next time."
   ]
  },
  {
   "cell_type": "code",
   "execution_count": 14,
   "id": "f3204f5a",
   "metadata": {},
   "outputs": [],
   "source": [
    "matches_df.to_csv('matches.csv', index = False)"
   ]
  }
 ],
 "metadata": {
  "kernelspec": {
   "display_name": "Python 3",
   "language": "python",
   "name": "python3"
  },
  "language_info": {
   "codemirror_mode": {
    "name": "ipython",
    "version": 3
   },
   "file_extension": ".py",
   "mimetype": "text/x-python",
   "name": "python",
   "nbconvert_exporter": "python",
   "pygments_lexer": "ipython3",
   "version": "3.8.8"
  }
 },
 "nbformat": 4,
 "nbformat_minor": 5
}
